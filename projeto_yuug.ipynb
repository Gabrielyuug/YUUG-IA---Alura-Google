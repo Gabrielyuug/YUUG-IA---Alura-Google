{
  "nbformat": 4,
  "nbformat_minor": 0,
  "metadata": {
    "colab": {
      "provenance": [],
      "gpuType": "T4",
      "include_colab_link": true
    },
    "kernelspec": {
      "name": "python3",
      "display_name": "Python 3"
    },
    "language_info": {
      "name": "python"
    }
  },
  "cells": [
    {
      "cell_type": "markdown",
      "metadata": {
        "id": "view-in-github",
        "colab_type": "text"
      },
      "source": [
        "<a href=\"https://colab.research.google.com/github/Gabrielyuug/YUUG-IA---Alura-Google/blob/main/projeto_yuug.ipynb\" target=\"_parent\"><img src=\"https://colab.research.google.com/assets/colab-badge.svg\" alt=\"Open In Colab\"/></a>"
      ]
    },
    {
      "cell_type": "code",
      "execution_count": 25,
      "metadata": {
        "id": "d4dbQ-6M9d1V"
      },
      "outputs": [],
      "source": [
        "!pip install -U -q google-generativeai"
      ]
    },
    {
      "cell_type": "code",
      "source": [
        "from google.colab import drive\n",
        "drive.mount('/content/drive')"
      ],
      "metadata": {
        "id": "c3071pKLOcBj"
      },
      "execution_count": null,
      "outputs": []
    },
    {
      "cell_type": "code",
      "source": [
        "!pip install -q google-cloud-videointelligence google-auth files pytube"
      ],
      "metadata": {
        "id": "9F0180qMT9bR"
      },
      "execution_count": 26,
      "outputs": []
    },
    {
      "cell_type": "markdown",
      "source": [
        "Instalando o SDK do Google"
      ],
      "metadata": {
        "id": "Cb5Gpw3k9pII"
      }
    },
    {
      "cell_type": "code",
      "source": [
        "import google.generativeai as genai\n",
        "\n",
        "GOOGLE_API_KEY=('insira sua api key aqui')\n",
        "\n",
        "genai.configure(api_key=GOOGLE_API_KEY)"
      ],
      "metadata": {
        "id": "-u5ZZL4h-F7c"
      },
      "execution_count": 27,
      "outputs": []
    },
    {
      "cell_type": "markdown",
      "source": [
        "Listar os modelos disponíveis"
      ],
      "metadata": {
        "id": "pemELurL-1Ye"
      }
    },
    {
      "cell_type": "code",
      "source": [
        "for m in genai.list_models():\n",
        "  if 'generateContent' in m.supported_generation_methods:\n",
        "    print(m.name)"
      ],
      "metadata": {
        "id": "7KUraRA--u2U",
        "colab": {
          "base_uri": "https://localhost:8080/",
          "height": 149
        },
        "outputId": "6ad2422e-d6a9-4525-8234-65935f6e0c34"
      },
      "execution_count": 28,
      "outputs": [
        {
          "output_type": "stream",
          "name": "stdout",
          "text": [
            "models/gemini-1.0-pro\n",
            "models/gemini-1.0-pro-001\n",
            "models/gemini-1.0-pro-latest\n",
            "models/gemini-1.0-pro-vision-latest\n",
            "models/gemini-1.5-pro-latest\n",
            "models/gemini-pro\n",
            "models/gemini-pro-vision\n"
          ]
        }
      ]
    },
    {
      "cell_type": "code",
      "source": [
        "generation_config = {\n",
        "    \"candidate_count\": 1,\n",
        "    \"temperature\": 0.8,\n",
        "}\n",
        "\n",
        "safety_settings = {\n",
        "    \"HARASSMENT\": \"BLOCK_NONE\",\n",
        "    \"HATE\": \"BLOCK_NONE\",\n",
        "    \"SEXUAL\": \"BLOCK_NONE\",\n",
        "    \"DANGEROUS\": \"BLOCK_NONE\",\n",
        "}"
      ],
      "metadata": {
        "id": "ZNQGbN23CRzz"
      },
      "execution_count": 29,
      "outputs": []
    },
    {
      "cell_type": "markdown",
      "source": [
        "Limitando o modelo"
      ],
      "metadata": {
        "id": "TdzJAr1bESgo"
      }
    },
    {
      "cell_type": "code",
      "source": [
        "model = genai.GenerativeModel(model_name=\"gemini-1.5-pro-latest\",\n",
        "                              generation_config=generation_config,\n",
        "                              safety_settings=safety_settings)"
      ],
      "metadata": {
        "id": "BURCUUIWEcbW"
      },
      "execution_count": 30,
      "outputs": []
    },
    {
      "cell_type": "code",
      "source": [
        "%%time\n",
        "response = model.generate_content(\"Você é um analista de CS:GO\")"
      ],
      "metadata": {
        "id": "mOW-EGL1NiXC",
        "colab": {
          "base_uri": "https://localhost:8080/",
          "height": 55
        },
        "outputId": "c5443d09-1b7e-4a9f-8418-abbbfa71e7cf"
      },
      "execution_count": 31,
      "outputs": [
        {
          "output_type": "stream",
          "name": "stdout",
          "text": [
            "CPU times: user 87.1 ms, sys: 10.2 ms, total: 97.3 ms\n",
            "Wall time: 6.49 s\n"
          ]
        }
      ]
    },
    {
      "cell_type": "code",
      "source": [
        "from IPython.display import Markdown as md\n",
        "md(response.text)"
      ],
      "metadata": {
        "id": "0nTLl3UANwhc",
        "colab": {
          "base_uri": "https://localhost:8080/",
          "height": 267
        },
        "outputId": "b359aa0d-dc25-4961-d0c3-cfb44803d637"
      },
      "execution_count": 32,
      "outputs": [
        {
          "output_type": "execute_result",
          "data": {
            "text/plain": [
              "<IPython.core.display.Markdown object>"
            ],
            "text/markdown": "Correto! Sou capaz de analisar partidas e jogadores de CS:GO, fornecendo insights táticos e estratégicos. \n\nPara me ajudar a analisar, me diga:\n\n* **O que você gostaria de analisar?** Uma partida específica? Um jogador em particular? Uma equipe? Um mapa? Uma estratégia? \n* **Quais informações você possui?** Demos da partida, estatísticas dos jogadores, vídeos, etc. Quanto mais informações você fornecer, mais completa será minha análise.\n\nCom base nas suas respostas, posso ajudá-lo a:\n\n* **Identificar pontos fortes e fracos** de jogadores e equipes.\n* **Analisar a economia** durante a partida.\n* **Avaliar a tomada de decisão** em momentos cruciais.\n* **Desvendar as estratégias** utilizadas por ambos os lados.\n* **Sugerir melhorias** para o seu jogo individual ou em equipe.\n\nEstou pronto para começar a análise! 😊 \n"
          },
          "metadata": {},
          "execution_count": 32
        }
      ]
    },
    {
      "cell_type": "code",
      "source": [
        "import cv2\n",
        "import os\n",
        "import shutil\n",
        "\n",
        "# Create or cleanup existing extracted image frames directory.\n",
        "FRAME_EXTRACTION_DIRECTORY = \"/content/frames\"\n",
        "FRAME_PREFIX = \"_frame\"\n",
        "def create_frame_output_dir(output_dir):\n",
        "  if not os.path.exists(output_dir):\n",
        "    os.makedirs(output_dir)\n",
        "  else:\n",
        "    shutil.rmtree(output_dir)\n",
        "    os.makedirs(output_dir)\n",
        "\n",
        "def extract_frame_from_video(video_file_path):\n",
        "  print(f\"Extracting {video_file_path} at {60} frame per second. This might take a bit...\")\n",
        "  create_frame_output_dir(FRAME_EXTRACTION_DIRECTORY)\n",
        "  vidcap = cv2.VideoCapture(video_file_path)\n",
        "  fps = vidcap.get(cv2.CAP_PROP_FPS)\n",
        "  frame_duration = 1 / fps  # Time interval between frames (in seconds)\n",
        "  output_file_prefix = os.path.basename(video_file_path).replace('.', '_')\n",
        "  frame_count = 0\n",
        "  count = 0\n",
        "  while vidcap.isOpened():\n",
        "      success, frame = vidcap.read()\n",
        "      if not success: # End of video\n",
        "          break\n",
        "      if int(count / fps) == frame_count: # Extract a frame every second\n",
        "          min = frame_count // 60\n",
        "          sec = frame_count % 60\n",
        "          time_string = f\"{min:02d}:{sec:02d}\"\n",
        "          image_name = f\"{output_file_prefix}{FRAME_PREFIX}{time_string}.jpg\"\n",
        "          output_filename = os.path.join(FRAME_EXTRACTION_DIRECTORY, image_name)\n",
        "          cv2.imwrite(output_filename, frame)\n",
        "          frame_count += 1\n",
        "      count += 1\n",
        "  vidcap.release() # Release the capture object\\n\",\n",
        "  print(f\"Completed video frame extraction!\\n\\nExtracted: {frame_count} frames\")"
      ],
      "metadata": {
        "id": "2fp22b8Ne87Z"
      },
      "execution_count": 33,
      "outputs": []
    },
    {
      "cell_type": "code",
      "source": [
        "import os\n",
        "\n",
        "class File:\n",
        "  def __init__(self, file_path: str, display_name: str = None):\n",
        "    self.file_path = file_path\n",
        "    if display_name:\n",
        "      self.display_name = display_name\n",
        "    self.timestamp = get_timestamp(file_path)\n",
        "\n",
        "  def set_file_response(self, response):\n",
        "    self.response = response\n",
        "\n",
        "def get_timestamp(filename):\n",
        "  \"\"\"Extracts the frame count (as an integer) from a filename with the format\n",
        "     'output_file_prefix_frame00:00.jpg'.\n",
        "  \"\"\"\n",
        "  parts = filename.split(FRAME_PREFIX)\n",
        "  if len(parts) != 2:\n",
        "      return None  # Indicates the filename might be incorrectly formatted\n",
        "  return parts[1].split('.')[0]\n",
        "\n",
        "def upload_frames():\n",
        "  # Process each frame in the output directory\n",
        "  files = os.listdir(FRAME_EXTRACTION_DIRECTORY)\n",
        "  files = sorted(files)\n",
        "  files_to_upload = []\n",
        "  for file in files:\n",
        "    files_to_upload.append(\n",
        "        File(file_path=os.path.join(FRAME_EXTRACTION_DIRECTORY, file)))\n",
        "\n",
        "  # Upload the files to the API\n",
        "  # Only upload a 10 second slice of files to reduce upload time.\n",
        "  # Change full_video to True to upload the whole video.\n",
        "  full_video = True\n",
        "\n",
        "  uploaded_files = []\n",
        "  print(f'Uploading {len(files_to_upload) if full_video else 10} files. This might take a bit...')\n",
        "\n",
        "  for file in files_to_upload if full_video else files_to_upload[40:50]:\n",
        "    #print(f'Uploading: {file.file_path}...')\n",
        "    response = genai.upload_file(path=file.file_path)\n",
        "    file.set_file_response(response)\n",
        "    uploaded_files.append(file)\n",
        "\n",
        "  print(f\"Completed file uploads!\\nUploaded: {len(uploaded_files)} files\")\n",
        "  return uploaded_files\n",
        "\n",
        "def list_files(uploaded_files):\n",
        "# List files uploaded in the API\n",
        "  for n, f in zip(range(len(uploaded_files)), genai.list_files()):\n",
        "    print(f.uri)\n"
      ],
      "metadata": {
        "id": "_KHQdFOOgVPw"
      },
      "execution_count": 34,
      "outputs": []
    },
    {
      "cell_type": "code",
      "source": [
        "# Make GenerateContent request with the structure described above.\n",
        "def make_request(prompt, files):\n",
        "  request = [prompt]\n",
        "  for file in files:\n",
        "    request.append(file.timestamp)\n",
        "    request.append(file.response)\n",
        "  return request"
      ],
      "metadata": {
        "id": "u3gDmuyAkDtA"
      },
      "execution_count": 35,
      "outputs": []
    },
    {
      "cell_type": "code",
      "source": [
        "from pytube import YouTube\n",
        "\n",
        "video_url = input(\"Insira a URL da demo ou jogada do youtube: \")\n",
        "video_name = \"video_sample.mp4\"\n",
        "\n",
        "while video_url != \"fim\":\n",
        "  # Get video from yt\n",
        "  print(\"\\nNow just wait, your answer will arrive faster than the speed of light, or not...\")\n",
        "  YouTube(video_url).streams.get_highest_resolution().download(filename=video_name)\n",
        "\n",
        "  # Get frames\n",
        "  extract_frame_from_video(video_name)\n",
        "\n",
        "  # Make the LLM request.\n",
        "  # list_files(upload_frames()) # DEBUG ONLY\n",
        "  uploaded_files = upload_frames()\n",
        "\n",
        "  question = input(\"\\nQual a pergunta sobre a jogada: \")\n",
        "  while question != \"fim\":\n",
        "    request = make_request(question, uploaded_files)\n",
        "    response = model.generate_content(request, request_options={\"timeout\": 600})\n",
        "    print(f\"{response.text}\\n\")\n",
        "    question = input(\"Qual a pergunta sobre a jogada: \")\n",
        "\n",
        "  # Do again while prompt != \"fim\"\n",
        "  video_url = input(\"Insira a URL da demo ou jogada do youtube: \")"
      ],
      "metadata": {
        "id": "4C8G_vbhbouz",
        "colab": {
          "base_uri": "https://localhost:8080/",
          "height": 1000
        },
        "outputId": "bed41f84-7487-40e2-a033-217e3bae8e15"
      },
      "execution_count": null,
      "outputs": [
        {
          "name": "stdout",
          "output_type": "stream",
          "text": [
            "Insira a URL da demo ou jogada do youtube: https://www.youtube.com/watch?v=RaI82xO6yjs\n",
            "\n",
            "Now just wait, your answer will arrive faster than the speed of light, or not...\n",
            "Extracting video_sample.mp4 at 30 frame per second. This might take a bit...\n",
            "Completed video frame extraction!\n",
            "\n",
            "Extracted: 53 frames\n",
            "Uploading 53 files. This might take a bit...\n",
            "Completed file uploads!\n",
            "Uploaded: 53 files\n",
            "\n",
            "Qual a pergunta sobre a jogada: O que acontece nesse video\n",
            "Um jogador de Counter-Strike: Global Offensive chamado m0NESY faz uma jogada incrível para ganhar a rodada para seu time, G2 Esports. Ele mata dois jogadores inimigos enquanto corre para plantar a bomba, em seguida planta a bomba e elimina o último jogador inimigo com um tiro na cabeça através de uma parede. Seus companheiros de equipe estão extasiados com a jogada, e você pode ver suas reações na câmera.\n",
            "\n",
            "Qual a pergunta sobre a jogada: Quem é monesy\n",
            "m0NESY é um jogador profissional de Counter-Strike: Global Offensive para a G2 Esports.\n",
            "\n",
            "Qual a pergunta sobre a jogada: Quais os mapas mais jogados pela G2\n",
            "No canto superior esquerdo, na interface do jogo, é possível ver os mapas \"Ancient\", \"Inferno\" e \"Dust2\". O mapa que está sendo jogado é o \"Inferno\".\n",
            "\n",
            "Qual a pergunta sobre a jogada: fim\n",
            "Insira a URL da demo ou jogada do youtube: https://www.youtube.com/watch?v=HMvMtGV6ZJI&pp=ygUXam9nYWRhIHN0ZXdpZTJrIGluZmVybm8%3D\n",
            "\n",
            "Now just wait, your answer will arrive faster than the speed of light, or not...\n",
            "Extracting video_sample.mp4 at 30 frame per second. This might take a bit...\n",
            "Completed video frame extraction!\n",
            "\n",
            "Extracted: 51 frames\n",
            "Uploading 51 files. This might take a bit...\n",
            "Completed file uploads!\n",
            "Uploaded: 51 files\n",
            "\n",
            "Qual a pergunta sobre a jogada: Qual a semelhança das duas jogadas?\n",
            "A semelhança entre as duas jogadas é que ambas são jogadas de \"clutch\" vencedoras de rounds em que Stewie2k estava em desvantagem numérica, eliminando os últimos 3 jogadores do time adversário para garantir a vitória para a Cloud9.\n",
            "\n",
            "Qual a pergunta sobre a jogada: Em que mapa aconteceram esses clutch\n",
            "O mapa é Inferno.\n",
            "\n",
            "Qual a pergunta sobre a jogada: O que é um clutch\n",
            "Uma embreagem é quando um jogador vence uma rodada para sua equipe, apesar de estar em desvantagem numérica. No Counter-Strike: Global Offensive, uma embreagem geralmente acontece quando um jogador está sozinho contra 2 ou mais jogadores inimigos.\n",
            "\n",
            "Qual a pergunta sobre a jogada: Como treinar situação de clutch\n",
            "Treinar situações de clutch em CS:GO requer prática e foco em aspectos específicos do jogo. Aqui estão algumas dicas:\n",
            "\n",
            "**1. Pratique o controle do recoil:**\n",
            "\n",
            "* **Deathmatch:** Dedique tempo ao deathmatch focando em controlar o recoil das armas. Acostume-se com o padrão de spray de cada arma.\n",
            "* **Mapas de treino:** Utilize mapas de treino específicos para recoil, como o \"Recoil Master\".\n",
            "\n",
            "**2. Melhore a mira:**\n",
            "\n",
            "* **Aim Botz:** Pratique a precisão e velocidade de reação em mapas como o \"Aim Botz\".\n",
            "* **Workshop maps:** Explore mapas do Workshop dedicados à prática de mira, com diferentes desafios e cenários.\n",
            "\n",
            "**3. Aprimore o movimento:**\n",
            "\n",
            "* **Mapas de movimento:** Treine bunny hops, strafe jumps e outros movimentos avançados em mapas como o \"KZ_Climb\".\n",
            "* **Movimentação em servidores de comunidade:** Jogue em servidores de comunidade que enfatizam o movimento, como os servidores \"Surf\" e \"BHop\".\n",
            "\n",
            "**4. Domine as granadas:**\n",
            "\n",
            "* **Mapas de treino de granadas:** Aprenda a usar smokes, flashes e molotovs de forma eficaz em mapas específicos.\n",
            "* **Analise jogadas profissionais:** Observe como jogadores profissionais utilizam granadas em situações de clutch para ganhar vantagem.\n",
            "\n",
            "**5. Crie cenários de clutch:**\n",
            "\n",
            "* **Jogos personalizados:** Crie jogos personalizados com amigos ou outros jogadores para simular cenários de clutch.\n",
            "* **Modos de jogo específicos:** Utilize modos de jogo como \"Retakes\" e \"Execute\" para treinar situações de clutch de forma mais focada.\n",
            "\n",
            "**6. Mantenha a calma:**\n",
            "\n",
            "* **Respiração:** Concentre-se na respiração e evite entrar em pânico em momentos cruciais.\n",
            "* **Confiança:** Acredite na sua capacidade de vencer, mesmo em desvantagem numérica.\n",
            "\n",
            "**7. Analise seus erros:**\n",
            "\n",
            "* **Demos:** Grave suas partidas e analise seus erros em situações de clutch para entender o que precisa melhorar.\n",
            "* **Feedback de outros jogadores:** Peça feedback de amigos ou jogadores mais experientes para identificar seus pontos fracos.\n",
            "\n",
            "**Lembre-se:** treinar clutch é um processo contínuo. Dedique tempo e esforço para desenvolver suas habilidades e você verá resultados positivos ao longo do tempo. \n",
            "\n",
            "\n",
            "Qual a pergunta sobre a jogada: fim\n"
          ]
        }
      ]
    }
  ]
}